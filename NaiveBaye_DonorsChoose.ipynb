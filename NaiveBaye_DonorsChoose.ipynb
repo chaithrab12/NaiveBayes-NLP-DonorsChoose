{
  "nbformat": 4,
  "nbformat_minor": 0,
  "metadata": {
    "colab": {
      "name": "NaiveBaye-DonorsChoose.ipynb",
      "provenance": []
    },
    "kernelspec": {
      "name": "python3",
      "display_name": "Python 3"
    },
    "language_info": {
      "name": "python"
    }
  },
  "cells": [
    {
      "cell_type": "markdown",
      "source": [
        "**DonorsChoose**\n",
        "\n",
        "DonorsChoose is a nonprofit that addresses the education funding gap through crowdfunding. Since 2000, they have facilitated $970 million in donations to 40 million students in the United States.\n",
        "\n",
        "Features selected are listed below:\n",
        "\n",
        "- essay\n",
        "\n",
        "categorical features\n",
        "\n",
        "- teacher_prefix\n",
        "- project_grade_category\n",
        "- school_state\n",
        "- categories\n",
        "- subcategories\n",
        "\n",
        "numerical features\n",
        "\n",
        "- price\n",
        "- teacher_number_of_previously_posted_projects\n",
        "\n"
      ],
      "metadata": {
        "id": "YK_w86CFAPf5"
      }
    },
    {
      "cell_type": "markdown",
      "source": [
        "##Loading Data"
      ],
      "metadata": {
        "id": "I8V6k3C7BdQ1"
      }
    },
    {
      "cell_type": "code",
      "execution_count": 1,
      "metadata": {
        "colab": {
          "base_uri": "https://localhost:8080/",
          "height": 1000
        },
        "id": "0Lv4OtC1AGVN",
        "outputId": "d097c9b6-94e1-49b8-c312-371eb654fad0"
      },
      "outputs": [
        {
          "output_type": "execute_result",
          "data": {
            "text/html": [
              "\n",
              "  <div id=\"df-04adc07a-7913-497b-ac36-a49e0eee2be3\">\n",
              "    <div class=\"colab-df-container\">\n",
              "      <div>\n",
              "<style scoped>\n",
              "    .dataframe tbody tr th:only-of-type {\n",
              "        vertical-align: middle;\n",
              "    }\n",
              "\n",
              "    .dataframe tbody tr th {\n",
              "        vertical-align: top;\n",
              "    }\n",
              "\n",
              "    .dataframe thead th {\n",
              "        text-align: right;\n",
              "    }\n",
              "</style>\n",
              "<table border=\"1\" class=\"dataframe\">\n",
              "  <thead>\n",
              "    <tr style=\"text-align: right;\">\n",
              "      <th></th>\n",
              "      <th>school_state</th>\n",
              "      <th>teacher_prefix</th>\n",
              "      <th>project_grade_category</th>\n",
              "      <th>teacher_number_of_previously_posted_projects</th>\n",
              "      <th>project_is_approved</th>\n",
              "      <th>clean_categories</th>\n",
              "      <th>clean_subcategories</th>\n",
              "      <th>essay</th>\n",
              "      <th>price</th>\n",
              "    </tr>\n",
              "  </thead>\n",
              "  <tbody>\n",
              "    <tr>\n",
              "      <th>109238</th>\n",
              "      <td>fl</td>\n",
              "      <td>mrs</td>\n",
              "      <td>grades_prek_2</td>\n",
              "      <td>24</td>\n",
              "      <td>1</td>\n",
              "      <td>math_science</td>\n",
              "      <td>mathematics</td>\n",
              "      <td>i teach 17 amazing students title one school m...</td>\n",
              "      <td>181.65</td>\n",
              "    </tr>\n",
              "    <tr>\n",
              "      <th>109239</th>\n",
              "      <td>in</td>\n",
              "      <td>ms</td>\n",
              "      <td>grades_6_8</td>\n",
              "      <td>1</td>\n",
              "      <td>1</td>\n",
              "      <td>music_arts</td>\n",
              "      <td>music visualarts</td>\n",
              "      <td>my students often worry things outside educati...</td>\n",
              "      <td>156.99</td>\n",
              "    </tr>\n",
              "    <tr>\n",
              "      <th>109240</th>\n",
              "      <td>ca</td>\n",
              "      <td>ms</td>\n",
              "      <td>grades_9_12</td>\n",
              "      <td>0</td>\n",
              "      <td>1</td>\n",
              "      <td>appliedlearning</td>\n",
              "      <td>college_careerprep</td>\n",
              "      <td>our students come multiple different backgroun...</td>\n",
              "      <td>313.96</td>\n",
              "    </tr>\n",
              "    <tr>\n",
              "      <th>109241</th>\n",
              "      <td>ca</td>\n",
              "      <td>ms</td>\n",
              "      <td>grades_3_5</td>\n",
              "      <td>1</td>\n",
              "      <td>1</td>\n",
              "      <td>appliedlearning specialneeds</td>\n",
              "      <td>charactereducation specialneeds</td>\n",
              "      <td>my students year love science engineering ever...</td>\n",
              "      <td>292.12</td>\n",
              "    </tr>\n",
              "    <tr>\n",
              "      <th>109242</th>\n",
              "      <td>ct</td>\n",
              "      <td>mrs</td>\n",
              "      <td>grades_prek_2</td>\n",
              "      <td>51</td>\n",
              "      <td>1</td>\n",
              "      <td>literacy_language</td>\n",
              "      <td>literature_writing</td>\n",
              "      <td>i teach first grade title i school although st...</td>\n",
              "      <td>330.87</td>\n",
              "    </tr>\n",
              "    <tr>\n",
              "      <th>109243</th>\n",
              "      <td>hi</td>\n",
              "      <td>mrs</td>\n",
              "      <td>grades_9_12</td>\n",
              "      <td>5</td>\n",
              "      <td>1</td>\n",
              "      <td>health_sports</td>\n",
              "      <td>teamsports</td>\n",
              "      <td>our day starts 100 students athletes low incom...</td>\n",
              "      <td>143.36</td>\n",
              "    </tr>\n",
              "    <tr>\n",
              "      <th>109244</th>\n",
              "      <td>nm</td>\n",
              "      <td>ms</td>\n",
              "      <td>grades_prek_2</td>\n",
              "      <td>3</td>\n",
              "      <td>1</td>\n",
              "      <td>appliedlearning</td>\n",
              "      <td>earlydevelopment other</td>\n",
              "      <td>my students range age four five years old atte...</td>\n",
              "      <td>268.57</td>\n",
              "    </tr>\n",
              "    <tr>\n",
              "      <th>109245</th>\n",
              "      <td>il</td>\n",
              "      <td>mrs</td>\n",
              "      <td>grades_3_5</td>\n",
              "      <td>0</td>\n",
              "      <td>1</td>\n",
              "      <td>math_science</td>\n",
              "      <td>appliedsciences environmentalscience</td>\n",
              "      <td>we title 1 school 650 total students our eleme...</td>\n",
              "      <td>399.00</td>\n",
              "    </tr>\n",
              "    <tr>\n",
              "      <th>109246</th>\n",
              "      <td>hi</td>\n",
              "      <td>mrs</td>\n",
              "      <td>grades_9_12</td>\n",
              "      <td>1</td>\n",
              "      <td>1</td>\n",
              "      <td>math_science</td>\n",
              "      <td>health_lifescience</td>\n",
              "      <td>i teach many different types students my class...</td>\n",
              "      <td>287.73</td>\n",
              "    </tr>\n",
              "    <tr>\n",
              "      <th>109247</th>\n",
              "      <td>ca</td>\n",
              "      <td>mrs</td>\n",
              "      <td>grades_prek_2</td>\n",
              "      <td>2</td>\n",
              "      <td>1</td>\n",
              "      <td>literacy_language</td>\n",
              "      <td>literacy literature_writing</td>\n",
              "      <td>my first graders eager learn world around they...</td>\n",
              "      <td>5.50</td>\n",
              "    </tr>\n",
              "  </tbody>\n",
              "</table>\n",
              "</div>\n",
              "      <button class=\"colab-df-convert\" onclick=\"convertToInteractive('df-04adc07a-7913-497b-ac36-a49e0eee2be3')\"\n",
              "              title=\"Convert this dataframe to an interactive table.\"\n",
              "              style=\"display:none;\">\n",
              "        \n",
              "  <svg xmlns=\"http://www.w3.org/2000/svg\" height=\"24px\"viewBox=\"0 0 24 24\"\n",
              "       width=\"24px\">\n",
              "    <path d=\"M0 0h24v24H0V0z\" fill=\"none\"/>\n",
              "    <path d=\"M18.56 5.44l.94 2.06.94-2.06 2.06-.94-2.06-.94-.94-2.06-.94 2.06-2.06.94zm-11 1L8.5 8.5l.94-2.06 2.06-.94-2.06-.94L8.5 2.5l-.94 2.06-2.06.94zm10 10l.94 2.06.94-2.06 2.06-.94-2.06-.94-.94-2.06-.94 2.06-2.06.94z\"/><path d=\"M17.41 7.96l-1.37-1.37c-.4-.4-.92-.59-1.43-.59-.52 0-1.04.2-1.43.59L10.3 9.45l-7.72 7.72c-.78.78-.78 2.05 0 2.83L4 21.41c.39.39.9.59 1.41.59.51 0 1.02-.2 1.41-.59l7.78-7.78 2.81-2.81c.8-.78.8-2.07 0-2.86zM5.41 20L4 18.59l7.72-7.72 1.47 1.35L5.41 20z\"/>\n",
              "  </svg>\n",
              "      </button>\n",
              "      \n",
              "  <style>\n",
              "    .colab-df-container {\n",
              "      display:flex;\n",
              "      flex-wrap:wrap;\n",
              "      gap: 12px;\n",
              "    }\n",
              "\n",
              "    .colab-df-convert {\n",
              "      background-color: #E8F0FE;\n",
              "      border: none;\n",
              "      border-radius: 50%;\n",
              "      cursor: pointer;\n",
              "      display: none;\n",
              "      fill: #1967D2;\n",
              "      height: 32px;\n",
              "      padding: 0 0 0 0;\n",
              "      width: 32px;\n",
              "    }\n",
              "\n",
              "    .colab-df-convert:hover {\n",
              "      background-color: #E2EBFA;\n",
              "      box-shadow: 0px 1px 2px rgba(60, 64, 67, 0.3), 0px 1px 3px 1px rgba(60, 64, 67, 0.15);\n",
              "      fill: #174EA6;\n",
              "    }\n",
              "\n",
              "    [theme=dark] .colab-df-convert {\n",
              "      background-color: #3B4455;\n",
              "      fill: #D2E3FC;\n",
              "    }\n",
              "\n",
              "    [theme=dark] .colab-df-convert:hover {\n",
              "      background-color: #434B5C;\n",
              "      box-shadow: 0px 1px 3px 1px rgba(0, 0, 0, 0.15);\n",
              "      filter: drop-shadow(0px 1px 2px rgba(0, 0, 0, 0.3));\n",
              "      fill: #FFFFFF;\n",
              "    }\n",
              "  </style>\n",
              "\n",
              "      <script>\n",
              "        const buttonEl =\n",
              "          document.querySelector('#df-04adc07a-7913-497b-ac36-a49e0eee2be3 button.colab-df-convert');\n",
              "        buttonEl.style.display =\n",
              "          google.colab.kernel.accessAllowed ? 'block' : 'none';\n",
              "\n",
              "        async function convertToInteractive(key) {\n",
              "          const element = document.querySelector('#df-04adc07a-7913-497b-ac36-a49e0eee2be3');\n",
              "          const dataTable =\n",
              "            await google.colab.kernel.invokeFunction('convertToInteractive',\n",
              "                                                     [key], {});\n",
              "          if (!dataTable) return;\n",
              "\n",
              "          const docLinkHtml = 'Like what you see? Visit the ' +\n",
              "            '<a target=\"_blank\" href=https://colab.research.google.com/notebooks/data_table.ipynb>data table notebook</a>'\n",
              "            + ' to learn more about interactive tables.';\n",
              "          element.innerHTML = '';\n",
              "          dataTable['output_type'] = 'display_data';\n",
              "          await google.colab.output.renderOutput(dataTable, element);\n",
              "          const docLink = document.createElement('div');\n",
              "          docLink.innerHTML = docLinkHtml;\n",
              "          element.appendChild(docLink);\n",
              "        }\n",
              "      </script>\n",
              "    </div>\n",
              "  </div>\n",
              "  "
            ],
            "text/plain": [
              "       school_state  ...   price\n",
              "109238           fl  ...  181.65\n",
              "109239           in  ...  156.99\n",
              "109240           ca  ...  313.96\n",
              "109241           ca  ...  292.12\n",
              "109242           ct  ...  330.87\n",
              "109243           hi  ...  143.36\n",
              "109244           nm  ...  268.57\n",
              "109245           il  ...  399.00\n",
              "109246           hi  ...  287.73\n",
              "109247           ca  ...    5.50\n",
              "\n",
              "[10 rows x 9 columns]"
            ]
          },
          "metadata": {},
          "execution_count": 1
        }
      ],
      "source": [
        "\n",
        "import pandas\n",
        "data = pandas.read_csv('/content/drive/MyDrive/preprocessed_data.csv')\n",
        "data.tail(10)\n",
        "\n"
      ]
    },
    {
      "cell_type": "markdown",
      "source": [
        "# Split the dataset "
      ],
      "metadata": {
        "id": "YOy-RDIwBzn-"
      }
    },
    {
      "cell_type": "code",
      "source": [
        "# Split the dataset \n",
        "\n",
        "from sklearn.model_selection import train_test_split\n",
        "\n",
        "data = data[0:5000];\n",
        "\n",
        "\n",
        "X_train,X_test,Y_train,Y_test = train_test_split(data, data['project_is_approved'],test_size=0.33, random_state=42,stratify=data['project_is_approved'])\n",
        "X_train, X_cv, y_train, y_cv = train_test_split(X_train, Y_train, test_size=0.33, stratify=Y_train);\n",
        "\n",
        "print(X_test['teacher_prefix'].unique())\n",
        "\n",
        "X_train.drop(['project_is_approved'], axis=1, inplace=True)\n",
        "X_test.drop(['project_is_approved'], axis=1, inplace=True)\n",
        "X_cv.drop(['project_is_approved'], axis=1, inplace=True)"
      ],
      "metadata": {
        "colab": {
          "base_uri": "https://localhost:8080/"
        },
        "id": "f2mulKS-Bs-_",
        "outputId": "87ec3c50-9cfc-41e6-cb67-2cfe31664b27"
      },
      "execution_count": 2,
      "outputs": [
        {
          "output_type": "stream",
          "name": "stdout",
          "text": [
            "['ms' 'mrs' 'mr' 'teacher']\n"
          ]
        }
      ]
    },
    {
      "cell_type": "code",
      "source": [
        "print(data.columns)\n",
        "print(X_train.shape, X_cv.shape, y_train.shape, y_cv.shape, X_test.shape,Y_test.shape)"
      ],
      "metadata": {
        "colab": {
          "base_uri": "https://localhost:8080/"
        },
        "id": "CFuLHh7DB9Uh",
        "outputId": "1fca4f94-3d86-4db5-feaa-2eb6ff5e8e02"
      },
      "execution_count": 3,
      "outputs": [
        {
          "output_type": "stream",
          "name": "stdout",
          "text": [
            "Index(['school_state', 'teacher_prefix', 'project_grade_category',\n",
            "       'teacher_number_of_previously_posted_projects', 'project_is_approved',\n",
            "       'clean_categories', 'clean_subcategories', 'essay', 'price'],\n",
            "      dtype='object')\n",
            "(2244, 8) (1106, 8) (2244,) (1106,) (1650, 8) (1650,)\n"
          ]
        }
      ]
    },
    {
      "cell_type": "markdown",
      "source": [
        "##Make Data Model Ready: encoding essay"
      ],
      "metadata": {
        "id": "772E3nI0CIt6"
      }
    },
    {
      "cell_type": "code",
      "source": [
        "from tqdm import tqdm\n",
        "from sklearn.feature_extraction.text import CountVectorizer , TfidfVectorizer\n",
        "\n",
        "countVec = CountVectorizer(min_df=10,ngram_range=(1,2), max_features=2000);\n",
        "\n",
        "# fit only on train data\n",
        "countVec.fit(X_train['essay'].values);\n",
        "\n",
        "X_train_essay_bow = countVec.transform(X_train['essay'].values)\n",
        "X_cv_essay_bow = countVec.transform(X_cv['essay'].values)\n",
        "X_test_essay_bow = countVec.transform(X_test['essay'].values)\n",
        "print(X_train_essay_bow.shape)\n",
        "\n",
        "      "
      ],
      "metadata": {
        "colab": {
          "base_uri": "https://localhost:8080/"
        },
        "id": "5CMq84gyCK5U",
        "outputId": "0b074b99-ebaf-4290-e4f1-b479f2820a12"
      },
      "execution_count": 4,
      "outputs": [
        {
          "output_type": "stream",
          "name": "stdout",
          "text": [
            "(2244, 2000)\n"
          ]
        }
      ]
    },
    {
      "cell_type": "code",
      "source": [
        "\n",
        "vectorizer= TfidfVectorizer(ngram_range = (1,3));\n",
        "\n",
        "vectorizer.fit(X_train['essay'].values);\n",
        "X_train_tf_idf_essay = vectorizer.transform(X_train['essay'].values);\n",
        "X_cv_tf_idf_essay = vectorizer.transform(X_cv['essay'].values);\n",
        "X_test_tf_idf_essay = vectorizer.transform(X_test['essay'].values);"
      ],
      "metadata": {
        "id": "uZXLT39uCOps"
      },
      "execution_count": 5,
      "outputs": []
    },
    {
      "cell_type": "markdown",
      "source": [
        "##Make Data Model Ready: encoding numerical, categorical features"
      ],
      "metadata": {
        "id": "PMlOacJ0CldU"
      }
    },
    {
      "cell_type": "code",
      "source": [
        "\n",
        "# print(data.columns)\n",
        "vect = CountVectorizer();\n",
        "\n",
        "vect.fit(X_train['school_state'].values);\n",
        "X_train_school_state_ohe = vect.transform(X_train['school_state'].values);\n",
        "X_cv_school_state_ohe = vect.transform(X_cv['school_state'].values);\n",
        "X_test_school_state_ohe = vect.transform(X_test['school_state'].values);\n",
        "print(vect.get_feature_names());\n"
      ],
      "metadata": {
        "colab": {
          "base_uri": "https://localhost:8080/"
        },
        "id": "-bwwKgZDCm81",
        "outputId": "c8bea149-0663-4fc1-987e-20cb608649e5"
      },
      "execution_count": 6,
      "outputs": [
        {
          "output_type": "stream",
          "name": "stdout",
          "text": [
            "['ak', 'al', 'ar', 'az', 'ca', 'co', 'ct', 'dc', 'de', 'fl', 'ga', 'hi', 'ia', 'id', 'il', 'in', 'ks', 'ky', 'la', 'ma', 'md', 'me', 'mi', 'mn', 'mo', 'ms', 'nc', 'nd', 'ne', 'nh', 'nj', 'nm', 'nv', 'ny', 'oh', 'ok', 'or', 'pa', 'ri', 'sc', 'sd', 'tn', 'tx', 'ut', 'va', 'vt', 'wa', 'wi', 'wv', 'wy']\n"
          ]
        },
        {
          "output_type": "stream",
          "name": "stderr",
          "text": [
            "/usr/local/lib/python3.7/dist-packages/sklearn/utils/deprecation.py:87: FutureWarning: Function get_feature_names is deprecated; get_feature_names is deprecated in 1.0 and will be removed in 1.2. Please use get_feature_names_out instead.\n",
            "  warnings.warn(msg, category=FutureWarning)\n"
          ]
        }
      ]
    },
    {
      "cell_type": "code",
      "source": [
        "vect = CountVectorizer();\n",
        "vect.fit(X_train['teacher_prefix'].values);\n",
        "X_train_teacher_prefix_ohe = vect.transform(X_train['teacher_prefix'].values);\n",
        "X_cv_teacher_prefix_ohe = vect.transform(X_cv['teacher_prefix'].values);\n",
        "X_test_teacher_prefix_ohe = vect.transform(X_test['teacher_prefix'].values);\n",
        "print(vect.get_feature_names());"
      ],
      "metadata": {
        "colab": {
          "base_uri": "https://localhost:8080/"
        },
        "id": "lPo8o3vjCunv",
        "outputId": "1db4ba42-d34b-4825-eacc-1bcef8dce6f2"
      },
      "execution_count": 7,
      "outputs": [
        {
          "output_type": "stream",
          "name": "stdout",
          "text": [
            "['mr', 'mrs', 'ms', 'teacher']\n"
          ]
        },
        {
          "output_type": "stream",
          "name": "stderr",
          "text": [
            "/usr/local/lib/python3.7/dist-packages/sklearn/utils/deprecation.py:87: FutureWarning: Function get_feature_names is deprecated; get_feature_names is deprecated in 1.0 and will be removed in 1.2. Please use get_feature_names_out instead.\n",
            "  warnings.warn(msg, category=FutureWarning)\n"
          ]
        }
      ]
    },
    {
      "cell_type": "code",
      "source": [
        "vect = CountVectorizer();\n",
        "vect.fit(X_train['project_grade_category'].values);\n",
        "X_train_project_grade_category_ohe = vect.transform(X_train['project_grade_category'].values);\n",
        "X_cv_project_grade_category_ohe = vect.transform(X_cv['project_grade_category'].values);\n",
        "X_test_project_grade_category_ohe = vect.transform(X_test['project_grade_category'].values);\n",
        "print(vect.get_feature_names());\n"
      ],
      "metadata": {
        "colab": {
          "base_uri": "https://localhost:8080/"
        },
        "id": "p7OpmwjtCxrN",
        "outputId": "741eb659-57e0-43b8-a95e-dea5aa753bf2"
      },
      "execution_count": 8,
      "outputs": [
        {
          "output_type": "stream",
          "name": "stdout",
          "text": [
            "['grades_3_5', 'grades_6_8', 'grades_9_12', 'grades_prek_2']\n"
          ]
        },
        {
          "output_type": "stream",
          "name": "stderr",
          "text": [
            "/usr/local/lib/python3.7/dist-packages/sklearn/utils/deprecation.py:87: FutureWarning: Function get_feature_names is deprecated; get_feature_names is deprecated in 1.0 and will be removed in 1.2. Please use get_feature_names_out instead.\n",
            "  warnings.warn(msg, category=FutureWarning)\n"
          ]
        }
      ]
    },
    {
      "cell_type": "code",
      "source": [
        "vect = CountVectorizer();\n",
        "vect.fit(X_train['clean_categories'].values);\n",
        "X_train_clean_categories_ohe = vect.transform(X_train['clean_categories'].values);\n",
        "X_cv_clean_categories_ohe = vect.transform(X_cv['clean_categories'].values);\n",
        "X_test_clean_categories_ohe = vect.transform(X_test['clean_categories'].values);\n",
        "print(vect.get_feature_names());"
      ],
      "metadata": {
        "colab": {
          "base_uri": "https://localhost:8080/"
        },
        "id": "54Wy8fM2C0Qv",
        "outputId": "59171bfa-bfe9-45bc-e8ec-2cd6485670e9"
      },
      "execution_count": 9,
      "outputs": [
        {
          "output_type": "stream",
          "name": "stdout",
          "text": [
            "['appliedlearning', 'health_sports', 'history_civics', 'literacy_language', 'math_science', 'music_arts', 'specialneeds']\n"
          ]
        },
        {
          "output_type": "stream",
          "name": "stderr",
          "text": [
            "/usr/local/lib/python3.7/dist-packages/sklearn/utils/deprecation.py:87: FutureWarning: Function get_feature_names is deprecated; get_feature_names is deprecated in 1.0 and will be removed in 1.2. Please use get_feature_names_out instead.\n",
            "  warnings.warn(msg, category=FutureWarning)\n"
          ]
        }
      ]
    },
    {
      "cell_type": "code",
      "source": [
        "vect = CountVectorizer();\n",
        "vect.fit(X_train['clean_subcategories'].values);\n",
        "X_train_clean_subcategories_ohe= vect.transform(X_train['clean_subcategories'].values);\n",
        "X_cv_clean_subcategories_ohe = vect.transform(X_cv['clean_subcategories'].values);\n",
        "X_test_clean_subcategories_ohe= vect.transform(X_test['clean_subcategories'].values);\n"
      ],
      "metadata": {
        "id": "9jn9EiJkC6nI"
      },
      "execution_count": 10,
      "outputs": []
    },
    {
      "cell_type": "code",
      "source": [
        "# Normailzer on numeric values\n",
        "from sklearn.preprocessing import Normalizer\n",
        "norm = Normalizer();\n",
        "\n",
        "norm.fit(X_train['price'].values.reshape(1, -1).reshape(-1,1));\n",
        "X_train_price_norm = norm.transform(X_train['price'].values.reshape(1, -1).reshape(-1,1));\n",
        "X_cv_price_norm = norm.fit_transform(X_cv['price'].values.reshape(1,-1).reshape(-1,1));\n",
        "X_test_price_norm = norm.fit_transform(X_test['price'].values.reshape(1,-1).reshape(-1,1));"
      ],
      "metadata": {
        "id": "QTyBMJtSDAQm"
      },
      "execution_count": 11,
      "outputs": []
    },
    {
      "cell_type": "code",
      "source": [
        "norm = Normalizer();\n",
        "norm.fit(X_train['teacher_number_of_previously_posted_projects'].values.reshape(1,-1).reshape(-1,1));\n",
        "X_train_teacher_number_of_previously_posted_projects_Norm = norm.fit_transform(X_train['teacher_number_of_previously_posted_projects'].values.reshape(1,-1).reshape(-1,1));\n",
        "X_cv_teacher_number_of_previously_posted_projects_Norm = norm.fit_transform(X_cv['teacher_number_of_previously_posted_projects'].values.reshape(1,-1).reshape(-1,1));\n",
        "X_test_teacher_number_of_previously_posted_projects_Norm = norm.fit_transform(X_test['teacher_number_of_previously_posted_projects'].values.reshape(1,-1).reshape(-1,1));\n",
        "\n"
      ],
      "metadata": {
        "id": "socQQB8jDCv7"
      },
      "execution_count": 12,
      "outputs": []
    },
    {
      "cell_type": "markdown",
      "source": [
        "### Perform Hyperparameter Tuning"
      ],
      "metadata": {
        "id": "HOsauOwwDHku"
      }
    },
    {
      "cell_type": "code",
      "source": [
        "# Perform Hyperparameter Tuning.\n",
        "\n",
        "from sklearn.model_selection import RandomizedSearchCV\n",
        "from sklearn.naive_bayes import GaussianNB\n",
        "from scipy.sparse import hstack\n",
        "import matplotlib.pyplot as plt \n",
        "\n",
        "naiveCLf = GaussianNB();\n",
        "parameters = {'var_smoothing':[0.1, 10, 100, 51, .004]};\n",
        "\n",
        "print(naiveCLf.get_params().keys())\n",
        "\n",
        "X_tr = hstack((X_train_essay_bow,X_train_price_norm,X_train_school_state_ohe,X_train_project_grade_category_ohe,\n",
        "               X_train_clean_categories_ohe,X_train_clean_subcategories_ohe,X_train_teacher_prefix_ohe,X_train_teacher_number_of_previously_posted_projects_Norm )).tocsr()\n",
        "X_cr = hstack((X_cv_essay_bow,X_cv_price_norm,X_cv_school_state_ohe,X_cv_project_grade_category_ohe,\n",
        "               X_cv_clean_categories_ohe,X_cv_clean_subcategories_ohe,X_cv_teacher_prefix_ohe,X_cv_teacher_number_of_previously_posted_projects_Norm )).tocsr()\n",
        "X_tst =  hstack((X_test_essay_bow,X_test_price_norm,X_test_school_state_ohe,X_test_project_grade_category_ohe,\n",
        "               X_test_clean_categories_ohe,X_test_clean_subcategories_ohe,X_test_teacher_prefix_ohe,X_test_teacher_number_of_previously_posted_projects_Norm )).tocsr()\n",
        "clf = RandomizedSearchCV(naiveCLf, parameters , verbose =1 ,cv =3, scoring ='roc_auc', return_train_score= True );\n",
        "\n",
        "\n",
        "print(\"Final Data matrix\")\n",
        "print(X_tr.shape, y_train.shape)\n",
        "print(X_cr.shape, y_cv.shape)\n",
        "print(X_tst.shape, Y_test.shape)\n",
        "\n",
        "clf.fit(X_tr.toarray(),y_train);\n",
        "\n",
        "print(clf.cv_results_);\n",
        "\n",
        "\n",
        "train_auc= clf.cv_results_['mean_train_score']\n",
        "train_auc_std= clf.cv_results_['std_train_score']\n",
        "cv_auc = clf.cv_results_['mean_test_score'] \n",
        "cv_auc_std= clf.cv_results_['std_test_score']\n",
        "\n",
        "print(clf.best_params_);\n",
        "\n"
      ],
      "metadata": {
        "colab": {
          "base_uri": "https://localhost:8080/"
        },
        "id": "doc8q02mDDx5",
        "outputId": "2c2a9065-a0c1-4d02-c9ef-3a85fe3ace9a"
      },
      "execution_count": 13,
      "outputs": [
        {
          "output_type": "stream",
          "name": "stdout",
          "text": [
            "dict_keys(['priors', 'var_smoothing'])\n",
            "Final Data matrix\n",
            "(2244, 2095) (2244,)\n",
            "(1106, 2095) (1106,)\n",
            "(1650, 2095) (1650,)\n",
            "Fitting 3 folds for each of 5 candidates, totalling 15 fits\n"
          ]
        },
        {
          "output_type": "stream",
          "name": "stderr",
          "text": [
            "/usr/local/lib/python3.7/dist-packages/sklearn/model_selection/_search.py:296: UserWarning: The total space of parameters 5 is smaller than n_iter=10. Running 5 iterations. For exhaustive searches, use GridSearchCV.\n",
            "  UserWarning,\n"
          ]
        },
        {
          "output_type": "stream",
          "name": "stdout",
          "text": [
            "{'mean_fit_time': array([0.05812152, 0.04905605, 0.05156891, 0.05096316, 0.0502855 ]), 'std_fit_time': array([0.01019838, 0.00039941, 0.00180497, 0.001296  , 0.00139542]), 'mean_score_time': array([0.02268171, 0.02445698, 0.02275141, 0.02215179, 0.02713768]), 'std_score_time': array([0.00102367, 0.00427668, 0.0006003 , 0.00099902, 0.00391811]), 'param_var_smoothing': masked_array(data=[0.1, 10, 100, 51, 0.004],\n",
            "             mask=[False, False, False, False, False],\n",
            "       fill_value='?',\n",
            "            dtype=object), 'params': [{'var_smoothing': 0.1}, {'var_smoothing': 10}, {'var_smoothing': 100}, {'var_smoothing': 51}, {'var_smoothing': 0.004}], 'split0_test_score': array([0.56898148, 0.56601852, 0.5645216 , 0.56490741, 0.59455247]), 'split1_test_score': array([0.60591049, 0.59365741, 0.59233025, 0.59242284, 0.61088735]), 'split2_test_score': array([0.58088359, 0.54805882, 0.54562566, 0.54577869, 0.62569054]), 'mean_test_score': array([0.58525852, 0.56924492, 0.5674925 , 0.56770298, 0.61037679]), 'std_test_score': array([0.01539032, 0.01875482, 0.01918244, 0.01914472, 0.01271719]), 'rank_test_score': array([2, 3, 5, 4, 1], dtype=int32), 'split0_train_score': array([0.86326668, 0.69662114, 0.68569508, 0.6868553 , 0.95827427]), 'split1_train_score': array([0.87299794, 0.77163603, 0.76278837, 0.76401391, 0.958985  ]), 'split2_train_score': array([0.87677855, 0.69814815, 0.68790123, 0.68895062, 0.96353009]), 'mean_train_score': array([0.87101439, 0.72213511, 0.71212823, 0.71327327, 0.96026312]), 'std_train_score': array([0.00569172, 0.03500799, 0.03583345, 0.03588924, 0.00232825])}\n",
            "{'var_smoothing': 0.004}\n"
          ]
        }
      ]
    },
    {
      "cell_type": "markdown",
      "source": [
        "##Plotting the training and the CV AUC scores, for different values of 'alpha', using a 2D line plot"
      ],
      "metadata": {
        "id": "dGdUfG86DMqB"
      }
    },
    {
      "cell_type": "code",
      "source": [
        "k=sorted(parameters['var_smoothing'],reverse=False);\n",
        "plt.plot(k,train_auc,label='TRAIN AUC ');\n",
        "plt.plot(k,cv_auc,label='CV AUC ');\n",
        "\n",
        "plt.scatter(k, train_auc, label='Train AUC points')\n",
        "plt.scatter(k, cv_auc, label='CV AUC points')\n",
        "\n",
        "plt.legend();\n",
        "plt.xlabel(\"hyperparameter\")\n",
        "plt.ylabel(\"AUC\")\n",
        "plt.title(\"ERROR PLOTS\")\n",
        "plt.grid()\n",
        "plt.show()"
      ],
      "metadata": {
        "colab": {
          "base_uri": "https://localhost:8080/",
          "height": 295
        },
        "id": "pi94RdPDDQsE",
        "outputId": "0bd403f9-6256-4221-8686-61e8f9c8c01f"
      },
      "execution_count": 14,
      "outputs": [
        {
          "output_type": "display_data",
          "data": {
            "image/png": "[encoded data removed]",
            "text/plain": [
              "<Figure size 432x288 with 1 Axes>"
            ]
          },
          "metadata": {
            "needs_background": "light"
          }
        }
      ]
    },
    {
      "cell_type": "markdown",
      "source": [
        "##Obtain the optimal value for 'alpha' and using the obtained optimal 'alpha' value, fit a multinomial naive bayes model, on the train data,"
      ],
      "metadata": {
        "id": "xjwGL0ALDcWu"
      }
    },
    {
      "cell_type": "code",
      "source": [
        "from sklearn.naive_bayes import MultinomialNB\n",
        "from sklearn.metrics import roc_auc_score ,auc,accuracy_score\n",
        "from sklearn.metrics import roc_curve, auc\n",
        "import pandas as pd\n",
        "from scipy.sparse import vstack \n",
        "import numpy as np\n",
        "\n",
        "#  so after hyperparameter training , the best param is 0.004 \n",
        "best_param = 0.004;\n",
        "\n",
        "\n",
        "clf = MultinomialNB(alpha = best_param);\n",
        "# df = pd.DataFrame.sparse.from_spmatrix(X_tr.toarray,X_cr);\n",
        "X_train_final = vstack((X_tr,X_cr));\n",
        "\n",
        "Y_train_final = pd.concat([y_train, y_cv]);\n",
        "\n",
        "\n",
        "clf.fit(X_train_final,Y_train_final);\n",
        "Yred = clf.predict(X_tst)\n",
        "\n",
        "\n",
        "YTrain_Predicted_Proba = clf.predict_proba(X_train_final)[:,1];\n",
        "YTest_Predicted_Proba = clf.predict_proba(X_tst)[:,1];\n",
        "\n",
        "\n",
        "\n",
        "train_fpr, train_tpr, tr_thresholds   = roc_curve(Y_train_final,YTrain_Predicted_Proba);\n",
        "test_fpr, test_tpr, te_thresholds = roc_curve(Y_test,YTest_Predicted_Proba);\n",
        "\n",
        "\n",
        "print(str(auc(train_fpr, train_tpr)));\n",
        "print(str(auc(test_fpr, test_tpr)));"
      ],
      "metadata": {
        "colab": {
          "base_uri": "https://localhost:8080/"
        },
        "id": "mRBkY-WbDXO6",
        "outputId": "6a119e3b-4fe3-4aa1-e193-cf232a3872d4"
      },
      "execution_count": 15,
      "outputs": [
        {
          "output_type": "stream",
          "name": "stdout",
          "text": [
            "0.8933996168582375\n",
            "0.6297287284402915\n"
          ]
        }
      ]
    },
    {
      "cell_type": "markdown",
      "source": [
        "### Plot the ROC-AUC curves using the probability predictions made on train and test data."
      ],
      "metadata": {
        "id": "WGXs08itDsSO"
      }
    },
    {
      "cell_type": "code",
      "source": [
        "\n",
        "plt.plot(train_fpr,train_tpr,label='train AUC curve ='+ str(auc(train_fpr, train_tpr)));\n",
        "plt.plot(test_fpr,test_tpr,label='test AUC curve = '+str(auc(test_fpr, test_tpr)));\n",
        "plt.legend()\n",
        "plt.xlabel(\"False Positive Rate(FPR)\")\n",
        "plt.ylabel(\"True Positive Rate(TPR)\")\n",
        "plt.show()\n",
        "\n"
      ],
      "metadata": {
        "colab": {
          "base_uri": "https://localhost:8080/",
          "height": 279
        },
        "id": "yUR4MtUeDpzh",
        "outputId": "ceb3bd6c-c3cc-4211-b152-de249c2d7f5b"
      },
      "execution_count": 16,
      "outputs": [
        {
          "output_type": "display_data",
          "data": {
            "image/png": "[encoded data removed]",
            "text/plain": [
              "<Figure size 432x288 with 1 Axes>"
            ]
          },
          "metadata": {
            "needs_background": "light"
          }
        }
      ]
    }
  ]
}
